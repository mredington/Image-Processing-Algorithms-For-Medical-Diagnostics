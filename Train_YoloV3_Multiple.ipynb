{
  "nbformat": 4,
  "nbformat_minor": 0,
  "metadata": {
    "colab": {
      "provenance": [],
      "collapsed_sections": [],
      "include_colab_link": true
    },
    "kernelspec": {
      "name": "python3",
      "display_name": "Python 3"
    },
    "accelerator": "GPU"
  },
  "cells": [
    {
      "cell_type": "markdown",
      "metadata": {
        "id": "view-in-github",
        "colab_type": "text"
      },
      "source": [
        "<a href=\"https://colab.research.google.com/github/supremescotty/Image-Processing-Algorithms-For-Medical-Diagnostics/blob/main/Train_YoloV3_Multiple.ipynb\" target=\"_parent\"><img src=\"https://colab.research.google.com/assets/colab-badge.svg\" alt=\"Open In Colab\"/></a>"
      ]
    },
    {
      "cell_type": "markdown",
      "metadata": {
        "id": "wHBQcQzjD6HJ"
      },
      "source": [
        "**Connect google drive**"
      ]
    },
    {
      "cell_type": "code",
      "metadata": {
        "id": "bwp6NIrsZZFP"
      },
      "source": [
        "# Check if NVIDIA GPU is enabled\n",
        "!nvidia-smi"
      ],
      "execution_count": null,
      "outputs": []
    },
    {
      "cell_type": "code",
      "metadata": {
        "id": "9e9ZW3sqMEPO"
      },
      "source": [
        "from google.colab import drive\n",
        "drive.mount('/content/gdrive')\n",
        "!ln -s /content/gdrive/My\\ Drive/ /mydrive\n",
        "!ls /mydrive"
      ],
      "execution_count": null,
      "outputs": []
    },
    {
      "cell_type": "markdown",
      "metadata": {
        "id": "t7utW4in4azV"
      },
      "source": [
        "**1) Clone, configure & compile Darknet**\n",
        "\n"
      ]
    },
    {
      "cell_type": "code",
      "metadata": {
        "id": "e03U7Zi-qMr2"
      },
      "source": [
        "# Clone\n",
        "!git clone https://github.com/AlexeyAB/darknet"
      ],
      "execution_count": null,
      "outputs": []
    },
    {
      "cell_type": "code",
      "metadata": {
        "id": "7hzfEWSuONhz"
      },
      "source": [
        "# Configure\n",
        "%cd darknet\n",
        "!sed -i 's/OPENCV=0/OPENCV=1/' Makefile\n",
        "!sed -i 's/GPU=0/GPU=1/' Makefile\n",
        "!sed -i 's/CUDNN=0/CUDNN=1/' Makefile"
      ],
      "execution_count": null,
      "outputs": []
    },
    {
      "cell_type": "code",
      "metadata": {
        "id": "EBBokOq5OOA5"
      },
      "source": [
        "# Compile\n",
        "!make"
      ],
      "execution_count": null,
      "outputs": []
    },
    {
      "cell_type": "markdown",
      "metadata": {
        "id": "gAOLtA_qI9vF"
      },
      "source": [
        "**2) Configure yolov3.cfg file**"
      ]
    },
    {
      "cell_type": "code",
      "metadata": {
        "id": "s-RpscgU853t"
      },
      "source": [
        "# Make a copy of yolov3.cfg\n",
        "!cp cfg/yolov3.cfg cfg/yolov3_training.cfg"
      ],
      "execution_count": null,
      "outputs": []
    },
    {
      "cell_type": "code",
      "metadata": {
        "id": "5ZgVQRop_vwR"
      },
      "source": [
        "# Change lines in yolov3.cfg file\n",
        "!sed -i 's/batch=1/batch=64/' cfg/yolov3_training.cfg\n",
        "!sed -i 's/subdivisions=1/subdivisions=16/' cfg/yolov3_training.cfg\n",
        "!sed -i 's/max_batches = 500200/max_batches = 6000/' cfg/yolov3_training.cfg\n",
        "!sed -i '610 s@classes=80@classes=3@' cfg/yolov3_training.cfg\n",
        "!sed -i '696 s@classes=80@classes=3@' cfg/yolov3_training.cfg\n",
        "!sed -i '783 s@classes=80@classes=3@' cfg/yolov3_training.cfg\n",
        "!sed -i '603 s@filters=255@filters=24@' cfg/yolov3_training.cfg\n",
        "!sed -i '689 s@filters=255@filters=24@' cfg/yolov3_training.cfg\n",
        "!sed -i '776 s@filters=255@filters=24@' cfg/yolov3_training.cfg"
      ],
      "execution_count": null,
      "outputs": []
    },
    {
      "cell_type": "markdown",
      "metadata": {
        "id": "88p9BIjkPTRv"
      },
      "source": [
        "**3) Create .names and .data files**"
      ]
    },
    {
      "cell_type": "code",
      "metadata": {
        "id": "7AIBw_psIclz"
      },
      "source": [
        "!echo -e 'Knife\\nHandgun\\nShotgun' > data/obj.names\n",
        "!echo -e 'classes= 3\\ntrain  = data/train.txt\\nvalid  = data/test.txt\\nnames = data/obj.names\\nbackup = /mydrive/yolov3' > data/obj.data"
      ],
      "execution_count": null,
      "outputs": []
    },
    {
      "cell_type": "markdown",
      "metadata": {
        "id": "dqFFqbUJMtN-"
      },
      "source": [
        "**4) Save yolov3_training.cfg and obj.names files in Google drive**"
      ]
    },
    {
      "cell_type": "code",
      "metadata": {
        "id": "67o96gV7L0Uv"
      },
      "source": [
        "!cp cfg/yolov3_training.cfg /mydrive/yolov3/yolov3_testing.cfg\n",
        "!cp data/obj.names /mydrive/yolov3/classes.txt"
      ],
      "execution_count": null,
      "outputs": []
    },
    {
      "cell_type": "markdown",
      "metadata": {
        "id": "9RbVKJjoncW2"
      },
      "source": [
        "**5) Create a folder and unzip image dataset**"
      ]
    },
    {
      "cell_type": "code",
      "metadata": {
        "id": "eZlkzFMW7I_N"
      },
      "source": [
        "!mkdir data/obj\n",
        "!unzip /mydrive/yolov3/images.zip -d data/obj"
      ],
      "execution_count": null,
      "outputs": []
    },
    {
      "cell_type": "markdown",
      "metadata": {
        "id": "ogBdNwRaZ50U"
      },
      "source": [
        "**6) Create train.txt file**"
      ]
    },
    {
      "cell_type": "code",
      "metadata": {
        "id": "DGUyXxeYX0IP"
      },
      "source": [
        "import glob\n",
        "images_list = glob.glob(\"data/obj/*.jpg\")\n",
        "with open(\"data/train.txt\", \"w\") as f:\n",
        "    f.write(\"\\n\".join(images_list))"
      ],
      "execution_count": null,
      "outputs": []
    },
    {
      "cell_type": "markdown",
      "metadata": {
        "id": "084L-LLPqxQe"
      },
      "source": [
        "**7) Download pre-trained weights for the convolutional layers file**"
      ]
    },
    {
      "cell_type": "code",
      "metadata": {
        "id": "jhb5nZvsQ_96"
      },
      "source": [
        "!wget https://pjreddie.com/media/files/darknet53.conv.74"
      ],
      "execution_count": null,
      "outputs": []
    },
    {
      "cell_type": "markdown",
      "metadata": {
        "id": "CeSiuLrXoAjc"
      },
      "source": [
        "**8) Start training**"
      ]
    },
    {
      "cell_type": "code",
      "metadata": {
        "id": "S3_g3jclUzMm"
      },
      "source": [
        "!./darknet detector train data/obj.data cfg/yolov3_training.cfg darknet53.conv.74 -dont_show\n",
        "# Uncomment below and comment above to re-start your training from last saved weights\n",
        "#!./darknet detector train data/obj.data cfg/yolov3_training.cfg /mydrive/yolov3/yolov3_training_last.weights -dont_show"
      ],
      "execution_count": null,
      "outputs": []
    }
  ]
}